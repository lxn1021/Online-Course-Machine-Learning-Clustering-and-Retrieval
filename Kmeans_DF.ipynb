{
 "cells": [
  {
   "cell_type": "markdown",
   "metadata": {},
   "source": [
    "# k-means with text data"
   ]
  },
  {
   "cell_type": "code",
   "execution_count": 60,
   "metadata": {},
   "outputs": [],
   "source": [
    "import graphlab\n",
    "import numpy as np\n",
    "import pandas as pd\n",
    "from __future__ import division\n",
    "import matplotlib.pyplot as plt\n",
    "import os"
   ]
  },
  {
   "cell_type": "markdown",
   "metadata": {},
   "source": [
    "## Load data, extract features"
   ]
  },
  {
   "cell_type": "code",
   "execution_count": 61,
   "metadata": {},
   "outputs": [],
   "source": [
    "wiki = graphlab.SFrame(\"E:\\\\Machine Learning\\\\U.W\\\\Cluster and Retrieval\\\\people_wiki.gl/\")\n",
    "wiki.save(\"E:\\\\Machine Learning\\\\U.W\\\\Cluster and Retrieval\\\\people_wiki.csv\", format=\"csv\")\n",
    "wiki = pd.read_csv(\"E:\\\\Machine Learning\\\\U.W\\\\Cluster and Retrieval\\\\people_wiki.csv\")"
   ]
  },
  {
   "cell_type": "code",
   "execution_count": 62,
   "metadata": {},
   "outputs": [
    {
     "data": {
      "text/html": [
       "<div>\n",
       "<style scoped>\n",
       "    .dataframe tbody tr th:only-of-type {\n",
       "        vertical-align: middle;\n",
       "    }\n",
       "\n",
       "    .dataframe tbody tr th {\n",
       "        vertical-align: top;\n",
       "    }\n",
       "\n",
       "    .dataframe thead th {\n",
       "        text-align: right;\n",
       "    }\n",
       "</style>\n",
       "<table border=\"1\" class=\"dataframe\">\n",
       "  <thead>\n",
       "    <tr style=\"text-align: right;\">\n",
       "      <th></th>\n",
       "      <th>URI</th>\n",
       "      <th>name</th>\n",
       "      <th>text</th>\n",
       "    </tr>\n",
       "  </thead>\n",
       "  <tbody>\n",
       "    <tr>\n",
       "      <th>0</th>\n",
       "      <td>&lt;http://dbpedia.org/resource/Digby_Morrell&gt;</td>\n",
       "      <td>Digby Morrell</td>\n",
       "      <td>digby morrell born 10 october 1979 is a former...</td>\n",
       "    </tr>\n",
       "    <tr>\n",
       "      <th>1</th>\n",
       "      <td>&lt;http://dbpedia.org/resource/Alfred_J._Lewy&gt;</td>\n",
       "      <td>Alfred J. Lewy</td>\n",
       "      <td>alfred j lewy aka sandy lewy graduated from un...</td>\n",
       "    </tr>\n",
       "    <tr>\n",
       "      <th>2</th>\n",
       "      <td>&lt;http://dbpedia.org/resource/Harpdog_Brown&gt;</td>\n",
       "      <td>Harpdog Brown</td>\n",
       "      <td>harpdog brown is a singer and harmonica player...</td>\n",
       "    </tr>\n",
       "    <tr>\n",
       "      <th>3</th>\n",
       "      <td>&lt;http://dbpedia.org/resource/Franz_Rottensteiner&gt;</td>\n",
       "      <td>Franz Rottensteiner</td>\n",
       "      <td>franz rottensteiner born in waidmannsfeld lowe...</td>\n",
       "    </tr>\n",
       "    <tr>\n",
       "      <th>4</th>\n",
       "      <td>&lt;http://dbpedia.org/resource/G-Enka&gt;</td>\n",
       "      <td>G-Enka</td>\n",
       "      <td>henry krvits born 30 december 1974 in tallinn ...</td>\n",
       "    </tr>\n",
       "  </tbody>\n",
       "</table>\n",
       "</div>"
      ],
      "text/plain": [
       "                                                 URI                 name  \\\n",
       "0        <http://dbpedia.org/resource/Digby_Morrell>        Digby Morrell   \n",
       "1       <http://dbpedia.org/resource/Alfred_J._Lewy>       Alfred J. Lewy   \n",
       "2        <http://dbpedia.org/resource/Harpdog_Brown>        Harpdog Brown   \n",
       "3  <http://dbpedia.org/resource/Franz_Rottensteiner>  Franz Rottensteiner   \n",
       "4               <http://dbpedia.org/resource/G-Enka>               G-Enka   \n",
       "\n",
       "                                                text  \n",
       "0  digby morrell born 10 october 1979 is a former...  \n",
       "1  alfred j lewy aka sandy lewy graduated from un...  \n",
       "2  harpdog brown is a singer and harmonica player...  \n",
       "3  franz rottensteiner born in waidmannsfeld lowe...  \n",
       "4  henry krvits born 30 december 1974 in tallinn ...  "
      ]
     },
     "execution_count": 62,
     "metadata": {},
     "output_type": "execute_result"
    }
   ],
   "source": [
    "wiki.head()"
   ]
  },
  {
   "cell_type": "code",
   "execution_count": 63,
   "metadata": {},
   "outputs": [],
   "source": [
    "from sklearn.feature_extraction.text import TfidfVectorizer"
   ]
  },
  {
   "cell_type": "code",
   "execution_count": 106,
   "metadata": {},
   "outputs": [],
   "source": [
    "tfidf = TfidfVectorizer()\n",
    "corpus = tfidf.fit_transform(wiki[\"text\"])[:, :547979]\n",
    "mapping = tfidf.get_feature_names()[:547979]"
   ]
  },
  {
   "cell_type": "code",
   "execution_count": 107,
   "metadata": {},
   "outputs": [
    {
     "data": {
      "text/plain": [
       "array([[0., 0., 0., ..., 0., 0., 0.]])"
      ]
     },
     "execution_count": 107,
     "metadata": {},
     "output_type": "execute_result"
    }
   ],
   "source": [
    "corpus[0, :].toarray()"
   ]
  },
  {
   "cell_type": "code",
   "execution_count": 110,
   "metadata": {},
   "outputs": [],
   "source": [
    "mapping_table = pd.DataFrame({\"feature\": [\"feature\"]*len(mapping), \"category\": mapping})\n",
    "mapping_table[\"index\"] = mapping_table.index\n",
    "mapping_table = mapping_table[[\"feature\", \"category\", \"index\"]]"
   ]
  },
  {
   "cell_type": "code",
   "execution_count": 111,
   "metadata": {},
   "outputs": [
    {
     "data": {
      "text/html": [
       "<div>\n",
       "<style scoped>\n",
       "    .dataframe tbody tr th:only-of-type {\n",
       "        vertical-align: middle;\n",
       "    }\n",
       "\n",
       "    .dataframe tbody tr th {\n",
       "        vertical-align: top;\n",
       "    }\n",
       "\n",
       "    .dataframe thead th {\n",
       "        text-align: right;\n",
       "    }\n",
       "</style>\n",
       "<table border=\"1\" class=\"dataframe\">\n",
       "  <thead>\n",
       "    <tr style=\"text-align: right;\">\n",
       "      <th></th>\n",
       "      <th>feature</th>\n",
       "      <th>category</th>\n",
       "      <th>index</th>\n",
       "    </tr>\n",
       "  </thead>\n",
       "  <tbody>\n",
       "    <tr>\n",
       "      <th>0</th>\n",
       "      <td>feature</td>\n",
       "      <td>00</td>\n",
       "      <td>0</td>\n",
       "    </tr>\n",
       "    <tr>\n",
       "      <th>1</th>\n",
       "      <td>feature</td>\n",
       "      <td>000</td>\n",
       "      <td>1</td>\n",
       "    </tr>\n",
       "    <tr>\n",
       "      <th>2</th>\n",
       "      <td>feature</td>\n",
       "      <td>0000</td>\n",
       "      <td>2</td>\n",
       "    </tr>\n",
       "    <tr>\n",
       "      <th>3</th>\n",
       "      <td>feature</td>\n",
       "      <td>00000</td>\n",
       "      <td>3</td>\n",
       "    </tr>\n",
       "    <tr>\n",
       "      <th>4</th>\n",
       "      <td>feature</td>\n",
       "      <td>00000van</td>\n",
       "      <td>4</td>\n",
       "    </tr>\n",
       "    <tr>\n",
       "      <th>5</th>\n",
       "      <td>feature</td>\n",
       "      <td>0001</td>\n",
       "      <td>5</td>\n",
       "    </tr>\n",
       "    <tr>\n",
       "      <th>6</th>\n",
       "      <td>feature</td>\n",
       "      <td>00014338</td>\n",
       "      <td>6</td>\n",
       "    </tr>\n",
       "    <tr>\n",
       "      <th>7</th>\n",
       "      <td>feature</td>\n",
       "      <td>0001sec</td>\n",
       "      <td>7</td>\n",
       "    </tr>\n",
       "    <tr>\n",
       "      <th>8</th>\n",
       "      <td>feature</td>\n",
       "      <td>0002</td>\n",
       "      <td>8</td>\n",
       "    </tr>\n",
       "    <tr>\n",
       "      <th>9</th>\n",
       "      <td>feature</td>\n",
       "      <td>00026</td>\n",
       "      <td>9</td>\n",
       "    </tr>\n",
       "    <tr>\n",
       "      <th>10</th>\n",
       "      <td>feature</td>\n",
       "      <td>0003</td>\n",
       "      <td>10</td>\n",
       "    </tr>\n",
       "    <tr>\n",
       "      <th>11</th>\n",
       "      <td>feature</td>\n",
       "      <td>0005</td>\n",
       "      <td>11</td>\n",
       "    </tr>\n",
       "    <tr>\n",
       "      <th>12</th>\n",
       "      <td>feature</td>\n",
       "      <td>000577</td>\n",
       "      <td>12</td>\n",
       "    </tr>\n",
       "    <tr>\n",
       "      <th>13</th>\n",
       "      <td>feature</td>\n",
       "      <td>0005sec</td>\n",
       "      <td>13</td>\n",
       "    </tr>\n",
       "    <tr>\n",
       "      <th>14</th>\n",
       "      <td>feature</td>\n",
       "      <td>0006</td>\n",
       "      <td>14</td>\n",
       "    </tr>\n",
       "    <tr>\n",
       "      <th>15</th>\n",
       "      <td>feature</td>\n",
       "      <td>0007</td>\n",
       "      <td>15</td>\n",
       "    </tr>\n",
       "    <tr>\n",
       "      <th>16</th>\n",
       "      <td>feature</td>\n",
       "      <td>0007105916</td>\n",
       "      <td>16</td>\n",
       "    </tr>\n",
       "    <tr>\n",
       "      <th>17</th>\n",
       "      <td>feature</td>\n",
       "      <td>0007200374</td>\n",
       "      <td>17</td>\n",
       "    </tr>\n",
       "    <tr>\n",
       "      <th>18</th>\n",
       "      <td>feature</td>\n",
       "      <td>0007207328</td>\n",
       "      <td>18</td>\n",
       "    </tr>\n",
       "    <tr>\n",
       "      <th>19</th>\n",
       "      <td>feature</td>\n",
       "      <td>0007213506</td>\n",
       "      <td>19</td>\n",
       "    </tr>\n",
       "    <tr>\n",
       "      <th>20</th>\n",
       "      <td>feature</td>\n",
       "      <td>000721426xhe</td>\n",
       "      <td>20</td>\n",
       "    </tr>\n",
       "    <tr>\n",
       "      <th>21</th>\n",
       "      <td>feature</td>\n",
       "      <td>0007a</td>\n",
       "      <td>21</td>\n",
       "    </tr>\n",
       "    <tr>\n",
       "      <th>22</th>\n",
       "      <td>feature</td>\n",
       "      <td>000he</td>\n",
       "      <td>22</td>\n",
       "    </tr>\n",
       "    <tr>\n",
       "      <th>23</th>\n",
       "      <td>feature</td>\n",
       "      <td>000in</td>\n",
       "      <td>23</td>\n",
       "    </tr>\n",
       "    <tr>\n",
       "      <th>24</th>\n",
       "      <td>feature</td>\n",
       "      <td>000m</td>\n",
       "      <td>24</td>\n",
       "    </tr>\n",
       "    <tr>\n",
       "      <th>25</th>\n",
       "      <td>feature</td>\n",
       "      <td>000seelenprojekt</td>\n",
       "      <td>25</td>\n",
       "    </tr>\n",
       "    <tr>\n",
       "      <th>26</th>\n",
       "      <td>feature</td>\n",
       "      <td>000tnmickushina</td>\n",
       "      <td>26</td>\n",
       "    </tr>\n",
       "    <tr>\n",
       "      <th>27</th>\n",
       "      <td>feature</td>\n",
       "      <td>001</td>\n",
       "      <td>27</td>\n",
       "    </tr>\n",
       "    <tr>\n",
       "      <th>28</th>\n",
       "      <td>feature</td>\n",
       "      <td>0017</td>\n",
       "      <td>28</td>\n",
       "    </tr>\n",
       "    <tr>\n",
       "      <th>29</th>\n",
       "      <td>feature</td>\n",
       "      <td>001cd</td>\n",
       "      <td>29</td>\n",
       "    </tr>\n",
       "    <tr>\n",
       "      <th>...</th>\n",
       "      <td>...</td>\n",
       "      <td>...</td>\n",
       "      <td>...</td>\n",
       "    </tr>\n",
       "    <tr>\n",
       "      <th>547949</th>\n",
       "      <td>feature</td>\n",
       "      <td>zubeidiin</td>\n",
       "      <td>547949</td>\n",
       "    </tr>\n",
       "    <tr>\n",
       "      <th>547950</th>\n",
       "      <td>feature</td>\n",
       "      <td>zubeidis</td>\n",
       "      <td>547950</td>\n",
       "    </tr>\n",
       "    <tr>\n",
       "      <th>547951</th>\n",
       "      <td>feature</td>\n",
       "      <td>zubelhttpwwwpolmicplindexphpoptioncommwosobyid...</td>\n",
       "      <td>547951</td>\n",
       "    </tr>\n",
       "    <tr>\n",
       "      <th>547952</th>\n",
       "      <td>feature</td>\n",
       "      <td>zuber</td>\n",
       "      <td>547952</td>\n",
       "    </tr>\n",
       "    <tr>\n",
       "      <th>547953</th>\n",
       "      <td>feature</td>\n",
       "      <td>zuberbhler</td>\n",
       "      <td>547953</td>\n",
       "    </tr>\n",
       "    <tr>\n",
       "      <th>547954</th>\n",
       "      <td>feature</td>\n",
       "      <td>zuberbuhler</td>\n",
       "      <td>547954</td>\n",
       "    </tr>\n",
       "    <tr>\n",
       "      <th>547955</th>\n",
       "      <td>feature</td>\n",
       "      <td>zuberi</td>\n",
       "      <td>547955</td>\n",
       "    </tr>\n",
       "    <tr>\n",
       "      <th>547956</th>\n",
       "      <td>feature</td>\n",
       "      <td>zubers</td>\n",
       "      <td>547956</td>\n",
       "    </tr>\n",
       "    <tr>\n",
       "      <th>547957</th>\n",
       "      <td>feature</td>\n",
       "      <td>zubi</td>\n",
       "      <td>547957</td>\n",
       "    </tr>\n",
       "    <tr>\n",
       "      <th>547958</th>\n",
       "      <td>feature</td>\n",
       "      <td>zubia</td>\n",
       "      <td>547958</td>\n",
       "    </tr>\n",
       "    <tr>\n",
       "      <th>547959</th>\n",
       "      <td>feature</td>\n",
       "      <td>zubieta</td>\n",
       "      <td>547959</td>\n",
       "    </tr>\n",
       "    <tr>\n",
       "      <th>547960</th>\n",
       "      <td>feature</td>\n",
       "      <td>zubietacastillo</td>\n",
       "      <td>547960</td>\n",
       "    </tr>\n",
       "    <tr>\n",
       "      <th>547961</th>\n",
       "      <td>feature</td>\n",
       "      <td>zubig</td>\n",
       "      <td>547961</td>\n",
       "    </tr>\n",
       "    <tr>\n",
       "      <th>547962</th>\n",
       "      <td>feature</td>\n",
       "      <td>zubillagacerrato</td>\n",
       "      <td>547962</td>\n",
       "    </tr>\n",
       "    <tr>\n",
       "      <th>547963</th>\n",
       "      <td>feature</td>\n",
       "      <td>zubin</td>\n",
       "      <td>547963</td>\n",
       "    </tr>\n",
       "    <tr>\n",
       "      <th>547964</th>\n",
       "      <td>feature</td>\n",
       "      <td>zubiri</td>\n",
       "      <td>547964</td>\n",
       "    </tr>\n",
       "    <tr>\n",
       "      <th>547965</th>\n",
       "      <td>feature</td>\n",
       "      <td>zubizarreta</td>\n",
       "      <td>547965</td>\n",
       "    </tr>\n",
       "    <tr>\n",
       "      <th>547966</th>\n",
       "      <td>feature</td>\n",
       "      <td>zubkov</td>\n",
       "      <td>547966</td>\n",
       "    </tr>\n",
       "    <tr>\n",
       "      <th>547967</th>\n",
       "      <td>feature</td>\n",
       "      <td>zubkova</td>\n",
       "      <td>547967</td>\n",
       "    </tr>\n",
       "    <tr>\n",
       "      <th>547968</th>\n",
       "      <td>feature</td>\n",
       "      <td>zubkovmikhail</td>\n",
       "      <td>547968</td>\n",
       "    </tr>\n",
       "    <tr>\n",
       "      <th>547969</th>\n",
       "      <td>feature</td>\n",
       "      <td>zubov</td>\n",
       "      <td>547969</td>\n",
       "    </tr>\n",
       "    <tr>\n",
       "      <th>547970</th>\n",
       "      <td>feature</td>\n",
       "      <td>zubr</td>\n",
       "      <td>547970</td>\n",
       "    </tr>\n",
       "    <tr>\n",
       "      <th>547971</th>\n",
       "      <td>feature</td>\n",
       "      <td>zubrin</td>\n",
       "      <td>547971</td>\n",
       "    </tr>\n",
       "    <tr>\n",
       "      <th>547972</th>\n",
       "      <td>feature</td>\n",
       "      <td>zubritsky</td>\n",
       "      <td>547972</td>\n",
       "    </tr>\n",
       "    <tr>\n",
       "      <th>547973</th>\n",
       "      <td>feature</td>\n",
       "      <td>zuby</td>\n",
       "      <td>547973</td>\n",
       "    </tr>\n",
       "    <tr>\n",
       "      <th>547974</th>\n",
       "      <td>feature</td>\n",
       "      <td>zuc</td>\n",
       "      <td>547974</td>\n",
       "    </tr>\n",
       "    <tr>\n",
       "      <th>547975</th>\n",
       "      <td>feature</td>\n",
       "      <td>zuccato</td>\n",
       "      <td>547975</td>\n",
       "    </tr>\n",
       "    <tr>\n",
       "      <th>547976</th>\n",
       "      <td>feature</td>\n",
       "      <td>zucchero</td>\n",
       "      <td>547976</td>\n",
       "    </tr>\n",
       "    <tr>\n",
       "      <th>547977</th>\n",
       "      <td>feature</td>\n",
       "      <td>zuccheros</td>\n",
       "      <td>547977</td>\n",
       "    </tr>\n",
       "    <tr>\n",
       "      <th>547978</th>\n",
       "      <td>feature</td>\n",
       "      <td>zucchetti</td>\n",
       "      <td>547978</td>\n",
       "    </tr>\n",
       "  </tbody>\n",
       "</table>\n",
       "<p>547979 rows × 3 columns</p>\n",
       "</div>"
      ],
      "text/plain": [
       "        feature                                           category   index\n",
       "0       feature                                                 00       0\n",
       "1       feature                                                000       1\n",
       "2       feature                                               0000       2\n",
       "3       feature                                              00000       3\n",
       "4       feature                                           00000van       4\n",
       "5       feature                                               0001       5\n",
       "6       feature                                           00014338       6\n",
       "7       feature                                            0001sec       7\n",
       "8       feature                                               0002       8\n",
       "9       feature                                              00026       9\n",
       "10      feature                                               0003      10\n",
       "11      feature                                               0005      11\n",
       "12      feature                                             000577      12\n",
       "13      feature                                            0005sec      13\n",
       "14      feature                                               0006      14\n",
       "15      feature                                               0007      15\n",
       "16      feature                                         0007105916      16\n",
       "17      feature                                         0007200374      17\n",
       "18      feature                                         0007207328      18\n",
       "19      feature                                         0007213506      19\n",
       "20      feature                                       000721426xhe      20\n",
       "21      feature                                              0007a      21\n",
       "22      feature                                              000he      22\n",
       "23      feature                                              000in      23\n",
       "24      feature                                               000m      24\n",
       "25      feature                                   000seelenprojekt      25\n",
       "26      feature                                    000tnmickushina      26\n",
       "27      feature                                                001      27\n",
       "28      feature                                               0017      28\n",
       "29      feature                                              001cd      29\n",
       "...         ...                                                ...     ...\n",
       "547949  feature                                          zubeidiin  547949\n",
       "547950  feature                                           zubeidis  547950\n",
       "547951  feature  zubelhttpwwwpolmicplindexphpoptioncommwosobyid...  547951\n",
       "547952  feature                                              zuber  547952\n",
       "547953  feature                                         zuberbhler  547953\n",
       "547954  feature                                        zuberbuhler  547954\n",
       "547955  feature                                             zuberi  547955\n",
       "547956  feature                                             zubers  547956\n",
       "547957  feature                                               zubi  547957\n",
       "547958  feature                                              zubia  547958\n",
       "547959  feature                                            zubieta  547959\n",
       "547960  feature                                    zubietacastillo  547960\n",
       "547961  feature                                              zubig  547961\n",
       "547962  feature                                   zubillagacerrato  547962\n",
       "547963  feature                                              zubin  547963\n",
       "547964  feature                                             zubiri  547964\n",
       "547965  feature                                        zubizarreta  547965\n",
       "547966  feature                                             zubkov  547966\n",
       "547967  feature                                            zubkova  547967\n",
       "547968  feature                                      zubkovmikhail  547968\n",
       "547969  feature                                              zubov  547969\n",
       "547970  feature                                               zubr  547970\n",
       "547971  feature                                             zubrin  547971\n",
       "547972  feature                                          zubritsky  547972\n",
       "547973  feature                                               zuby  547973\n",
       "547974  feature                                                zuc  547974\n",
       "547975  feature                                            zuccato  547975\n",
       "547976  feature                                           zucchero  547976\n",
       "547977  feature                                          zuccheros  547977\n",
       "547978  feature                                          zucchetti  547978\n",
       "\n",
       "[547979 rows x 3 columns]"
      ]
     },
     "execution_count": 111,
     "metadata": {},
     "output_type": "execute_result"
    }
   ],
   "source": [
    "mapping_table"
   ]
  },
  {
   "cell_type": "markdown",
   "metadata": {},
   "source": [
    "The above matrix contains a TF-IDF score for each of the 59071 pages in the data set and each of the 548429 unique words."
   ]
  },
  {
   "cell_type": "markdown",
   "metadata": {},
   "source": [
    "## Normalize all vectors"
   ]
  },
  {
   "cell_type": "markdown",
   "metadata": {},
   "source": [
    "As discussed in the previous assignment, Euclidean distance can be a poor metric of similarity between documents, as it unfairly penalizes long articles. For a reasonable assessment of similarity, we should disregard the length information and use length-agnostic metrics, such as cosine distance.\n",
    "\n",
    "The k-means algorithm does not directly work with cosine distance, so we take an alternative route to remove length information: we normalize all vectors to be unit length. It turns out that Euclidean distance closely mimics cosine distance when all vectors are unit length. In particular, the squared Euclidean distance between any two vectors of length one is directly proportional to their cosine distance."
   ]
  },
  {
   "cell_type": "code",
   "execution_count": 112,
   "metadata": {},
   "outputs": [],
   "source": [
    "from sklearn.preprocessing import normalize"
   ]
  },
  {
   "cell_type": "code",
   "execution_count": 113,
   "metadata": {},
   "outputs": [],
   "source": [
    "tf_idf = normalize(corpus)"
   ]
  },
  {
   "cell_type": "code",
   "execution_count": 114,
   "metadata": {},
   "outputs": [
    {
     "data": {
      "text/plain": [
       "<59071x547979 sparse matrix of type '<type 'numpy.float64'>'\n",
       "\twith 10242872 stored elements in Compressed Sparse Row format>"
      ]
     },
     "execution_count": 114,
     "metadata": {},
     "output_type": "execute_result"
    }
   ],
   "source": [
    "tf_idf"
   ]
  },
  {
   "cell_type": "markdown",
   "metadata": {},
   "source": [
    "## Implement k-means"
   ]
  },
  {
   "cell_type": "markdown",
   "metadata": {},
   "source": [
    "Let us implement the k-means algorithm. First, we choose an initial set of centroids. A common practice is to choose randomly from the data points."
   ]
  },
  {
   "cell_type": "code",
   "execution_count": 115,
   "metadata": {},
   "outputs": [],
   "source": [
    "def get_initial_centroids(data, k, seed=None):\n",
    "    if seed is not None:\n",
    "        np.random.seed(seed)\n",
    "        \n",
    "    n = data.shape[0]\n",
    "    \n",
    "    # Pick k indices from range [0, N]\n",
    "    rand_indices = np.random.randint(0, n, k)\n",
    "    \n",
    "    centroids = data[rand_indices, :].toarray()\n",
    "    \n",
    "    \n",
    "    return centroids"
   ]
  },
  {
   "cell_type": "code",
   "execution_count": 116,
   "metadata": {},
   "outputs": [
    {
     "data": {
      "text/plain": [
       "array([[0., 0., 0., ..., 0., 0., 0.],\n",
       "       [0., 0., 0., ..., 0., 0., 0.],\n",
       "       [0., 0., 0., ..., 0., 0., 0.]])"
      ]
     },
     "execution_count": 116,
     "metadata": {},
     "output_type": "execute_result"
    }
   ],
   "source": [
    "get_initial_centroids(tf_idf, k=3, seed=0)"
   ]
  },
  {
   "cell_type": "markdown",
   "metadata": {},
   "source": [
    "After initialization, the k-means algorithm iterates between the following two steps:\n",
    "1. Assign each data point to the closest centroid.\n",
    "$$\n",
    "z_i \\gets \\mathrm{argmin}_j \\|\\mu_j - \\mathbf{x}_i\\|^2\n",
    "$$\n",
    "2. Revise centroids as the mean of the assigned data points.\n",
    "$$\n",
    "\\mu_j \\gets \\frac{1}{n_j}\\sum_{i:z_i=j} \\mathbf{x}_i\n",
    "$$"
   ]
  },
  {
   "cell_type": "markdown",
   "metadata": {},
   "source": [
    "### Assigning clusters"
   ]
  },
  {
   "cell_type": "code",
   "execution_count": 117,
   "metadata": {},
   "outputs": [
    {
     "name": "stdout",
     "output_type": "stream",
     "text": [
      "[[1.34969092 1.29516812]\n",
      " [1.38493918 1.39057177]\n",
      " [1.35282917 1.36704157]\n",
      " ...\n",
      " [1.3767731  1.35330366]\n",
      " [1.36099317 1.25110334]\n",
      " [1.34549925 1.36682984]]\n"
     ]
    }
   ],
   "source": [
    "from sklearn.metrics import pairwise_distances\n",
    "\n",
    "# Get the TF-IDF vectors for documents 100 through 102.\n",
    "queries = tf_idf[100:102, :]\n",
    "\n",
    "# Compute pairwise distances from every data point to each query vector.\n",
    "dist = pairwise_distances(tf_idf, queries, metric = \"euclidean\")\n",
    "\n",
    "print dist"
   ]
  },
  {
   "cell_type": "markdown",
   "metadata": {},
   "source": [
    "**Checkpoint:**"
   ]
  },
  {
   "cell_type": "code",
   "execution_count": 118,
   "metadata": {},
   "outputs": [],
   "source": [
    "initial_centroids = tf_idf[:3, :]\n",
    "dist_all = pairwise_distances(tf_idf, initial_centroids, metric=\"euclidean\")\n",
    "dist = pairwise_distances(tf_idf[430, :], initial_centroids[1])"
   ]
  },
  {
   "cell_type": "code",
   "execution_count": 119,
   "metadata": {},
   "outputs": [
    {
     "name": "stdout",
     "output_type": "stream",
     "text": [
      "Pass\n"
     ]
    }
   ],
   "source": [
    "'''Test cell'''\n",
    "if np.allclose(dist, pairwise_distances(tf_idf[430,:], tf_idf[1,:])):\n",
    "    print('Pass')\n",
    "else:\n",
    "    print('Check your code again')"
   ]
  },
  {
   "cell_type": "markdown",
   "metadata": {},
   "source": [
    "**Checkpoint:** "
   ]
  },
  {
   "cell_type": "code",
   "execution_count": 120,
   "metadata": {},
   "outputs": [],
   "source": [
    "distances = pairwise_distances(tf_idf, initial_centroids, metric=\"euclidean\")\n",
    "closest_cluster = np.argmin(distances, axis=1)"
   ]
  },
  {
   "cell_type": "code",
   "execution_count": 121,
   "metadata": {},
   "outputs": [
    {
     "name": "stdout",
     "output_type": "stream",
     "text": [
      "Pass\n"
     ]
    }
   ],
   "source": [
    "'''Test cell'''\n",
    "reference = [list(row).index(min(row)) for row in distances]\n",
    "if np.allclose(closest_cluster, reference):\n",
    "    print('Pass')\n",
    "else:\n",
    "    print('Check your code again')"
   ]
  },
  {
   "cell_type": "code",
   "execution_count": 122,
   "metadata": {},
   "outputs": [],
   "source": [
    "initial_centroids = tf_idf[:3, :]\n",
    "distances = pairwise_distances(tf_idf, initial_centroids, metric=\"euclidean\")\n",
    "cluster_assignment = np.argmin(distances, axis=1)"
   ]
  },
  {
   "cell_type": "code",
   "execution_count": 123,
   "metadata": {},
   "outputs": [
    {
     "data": {
      "text/plain": [
       "array([0, 1, 2, ..., 0, 0, 0], dtype=int64)"
      ]
     },
     "execution_count": 123,
     "metadata": {},
     "output_type": "execute_result"
    }
   ],
   "source": [
    "cluster_assignment"
   ]
  },
  {
   "cell_type": "code",
   "execution_count": 124,
   "metadata": {},
   "outputs": [],
   "source": [
    "def assign_clusters(data, centroids):\n",
    "    distances_from_centroids = pairwise_distances(data, centroids, metric=\"euclidean\")\n",
    "    cluster_assignment = np.argmin(distances_from_centroids, axis=1)\n",
    "    \n",
    "    return cluster_assignment"
   ]
  },
  {
   "cell_type": "markdown",
   "metadata": {},
   "source": [
    "### Revising clusters"
   ]
  },
  {
   "cell_type": "markdown",
   "metadata": {},
   "source": [
    "Let's turn to Step 2, where we compute the new centroids given the cluster assignments."
   ]
  },
  {
   "cell_type": "markdown",
   "metadata": {},
   "source": [
    "To develop intuition about filtering, let's look at a toy example consisting of 3 data points and 2 clusters."
   ]
  },
  {
   "cell_type": "code",
   "execution_count": 125,
   "metadata": {},
   "outputs": [],
   "source": [
    "data = np.array([[1., 2., 0.],\n",
    "                 [0., 0., 0.],\n",
    "                 [2., 2., 0.]])\n",
    "\n",
    "centroids = np.array([[0.5, 0.5, 0.],\n",
    "                      [0., -0.5, 0.]])"
   ]
  },
  {
   "cell_type": "markdown",
   "metadata": {},
   "source": [
    "Let's assign these data points to the closest centroid."
   ]
  },
  {
   "cell_type": "code",
   "execution_count": 126,
   "metadata": {},
   "outputs": [
    {
     "name": "stdout",
     "output_type": "stream",
     "text": [
      "[0 1 0]\n"
     ]
    }
   ],
   "source": [
    "cluster_assignment = assign_clusters(data, centroids)\n",
    "\n",
    "print cluster_assignment"
   ]
  },
  {
   "cell_type": "code",
   "execution_count": 127,
   "metadata": {},
   "outputs": [
    {
     "data": {
      "text/plain": [
       "array([False,  True, False])"
      ]
     },
     "execution_count": 127,
     "metadata": {},
     "output_type": "execute_result"
    }
   ],
   "source": [
    "cluster_assignment == 1"
   ]
  },
  {
   "cell_type": "code",
   "execution_count": 128,
   "metadata": {},
   "outputs": [
    {
     "data": {
      "text/plain": [
       "array([ True, False,  True])"
      ]
     },
     "execution_count": 128,
     "metadata": {},
     "output_type": "execute_result"
    }
   ],
   "source": [
    "cluster_assignment == 0"
   ]
  },
  {
   "cell_type": "markdown",
   "metadata": {},
   "source": [
    "First, let's look at the data points (i.e., their values) assigned to cluster 1:"
   ]
  },
  {
   "cell_type": "code",
   "execution_count": 129,
   "metadata": {},
   "outputs": [
    {
     "data": {
      "text/plain": [
       "array([[0., 0., 0.]])"
      ]
     },
     "execution_count": 129,
     "metadata": {},
     "output_type": "execute_result"
    }
   ],
   "source": [
    "data[cluster_assignment == 1]"
   ]
  },
  {
   "cell_type": "markdown",
   "metadata": {},
   "source": [
    "Now let's look at the data points assigned to cluster 0:"
   ]
  },
  {
   "cell_type": "code",
   "execution_count": 130,
   "metadata": {},
   "outputs": [
    {
     "data": {
      "text/plain": [
       "array([[1., 2., 0.],\n",
       "       [2., 2., 0.]])"
      ]
     },
     "execution_count": 130,
     "metadata": {},
     "output_type": "execute_result"
    }
   ],
   "source": [
    "data[cluster_assignment == 0]"
   ]
  },
  {
   "cell_type": "markdown",
   "metadata": {},
   "source": [
    "Given all the data points in a cluster, it only remains to compute the mean."
   ]
  },
  {
   "cell_type": "code",
   "execution_count": 131,
   "metadata": {},
   "outputs": [
    {
     "data": {
      "text/plain": [
       "array([1.5, 2. , 0. ])"
      ]
     },
     "execution_count": 131,
     "metadata": {},
     "output_type": "execute_result"
    }
   ],
   "source": [
    "data[cluster_assignment==0].mean(axis=0)"
   ]
  },
  {
   "cell_type": "markdown",
   "metadata": {},
   "source": [
    "We are now ready to complete this function:"
   ]
  },
  {
   "cell_type": "code",
   "execution_count": 132,
   "metadata": {},
   "outputs": [],
   "source": [
    "def revise_centroids(data, k, cluster_assignment):\n",
    "    new_centroids = []\n",
    "    \n",
    "    for i in xrange(k):\n",
    "        member_data_points = data[cluster_assignment == i]\n",
    "        centroids = member_data_points.mean(axis=0)\n",
    "        centroids = centroids.A1\n",
    "        new_centroids.append(centroids)\n",
    "        \n",
    "    new_centroids = np.array(new_centroids)\n",
    "    \n",
    "    \n",
    "    return new_centroids"
   ]
  },
  {
   "cell_type": "markdown",
   "metadata": {},
   "source": [
    "### Assessing convergence"
   ]
  },
  {
   "cell_type": "markdown",
   "metadata": {},
   "source": [
    "How can we tell if the k-means algorithm is converging? We can look at the cluster assignments and see if they stabilize over time. In fact, we'll be running the algorithm until the cluster assignments stop changing at all. To be extra safe, and to assess the clustering performance, we'll be looking at an additional criteria: the sum of all squared distances between data points and centroids. This is defined as\n",
    "$$\n",
    "J(\\mathcal{Z},\\mu) = \\sum_{j=1}^k \\sum_{i:z_i = j} \\|\\mathbf{x}_i - \\mu_j\\|^2.\n",
    "$$\n",
    "The smaller the distances, the more homogeneous the clusters are. In other words, we'd like to have \"tight\" clusters."
   ]
  },
  {
   "cell_type": "code",
   "execution_count": 133,
   "metadata": {},
   "outputs": [],
   "source": [
    "def compute_heterogeneity(data, k, centroids, cluster_assignment):\n",
    "    heterogeneity = 0.0\n",
    "    \n",
    "    for i in xrange(k):\n",
    "        member_data_points = data[cluster_assignment==i, :]\n",
    "        \n",
    "        if member_data_points.shape[0] > 0:\n",
    "            distances = pairwise_distances(member_data_points, [centroids[i]], metric=\"euclidean\")\n",
    "            squared_distances = distances**2\n",
    "            heterogeneity += np.sum(squared_distances)\n",
    "            \n",
    "            \n",
    "    return heterogeneity"
   ]
  },
  {
   "cell_type": "code",
   "execution_count": 134,
   "metadata": {},
   "outputs": [
    {
     "data": {
      "text/plain": [
       "7.25"
      ]
     },
     "execution_count": 134,
     "metadata": {},
     "output_type": "execute_result"
    }
   ],
   "source": [
    "compute_heterogeneity(data, 2, centroids, cluster_assignment)"
   ]
  },
  {
   "cell_type": "markdown",
   "metadata": {},
   "source": [
    "### Combining into a single function"
   ]
  },
  {
   "cell_type": "markdown",
   "metadata": {},
   "source": [
    "Once the two k-means steps have been implemented, as well as our heterogeneity metric we wish to monitor, it is only a matter of putting these functions together to write a k-means algorithm that\n",
    "\n",
    "* Repeatedly performs Steps 1 and 2\n",
    "* Tracks convergence metrics\n",
    "* Stops if either no assignment changed or we reach a certain number of iterations."
   ]
  },
  {
   "cell_type": "code",
   "execution_count": 135,
   "metadata": {},
   "outputs": [],
   "source": [
    "def kmeans(data, k, initial_centroids, maxiter, record_heterogeneity=None, verbose=False):\n",
    "    centroids = initial_centroids[:]\n",
    "    prev_cluster_assignment = None\n",
    "    \n",
    "    for itr in xrange(maxiter):\n",
    "        if verbose:\n",
    "            print (itr)\n",
    "            \n",
    "        # 1. Make cluster assignments using nearest centroids.\n",
    "        cluster_assignment = assign_clusters(data, centroids)\n",
    "        \n",
    "        # 2. Compute a new centroids for each of the k clusters, averaging all data points assigned to that cluster.\n",
    "        centroids = revise_centroids(data, k, cluster_assignment)\n",
    "        \n",
    "        # Check for convergence: if none of the assignments changed, stop\n",
    "        if prev_cluster_assignment is not None and (prev_cluster_assignment==cluster_assignment).all():\n",
    "            break\n",
    "            \n",
    "        # Print number of new assignments\n",
    "        if prev_cluster_assignment is not None:\n",
    "            num_changed = np.sum(prev_cluster_assignment != cluster_assignment)\n",
    "            if verbose:\n",
    "                print (\"     {0:5d} elements changed their cluster assignment.\".format(num_changed))\n",
    "                \n",
    "        # Record heterogeneity convergence metric.\n",
    "        if record_heterogeneity is not None:\n",
    "            score = compute_heterogeneity(data, k, centroids, cluster_assignment)\n",
    "            record_heterogeneity.append(score)\n",
    "            \n",
    "        prev_cluster_assignment = cluster_assignment[:]\n",
    "        \n",
    "        \n",
    "    return centroids, cluster_assignment"
   ]
  },
  {
   "cell_type": "markdown",
   "metadata": {},
   "source": [
    "## Plotting convergence metric"
   ]
  },
  {
   "cell_type": "markdown",
   "metadata": {},
   "source": [
    "We can use the above function to plot the convergence metric across iterations."
   ]
  },
  {
   "cell_type": "code",
   "execution_count": 136,
   "metadata": {},
   "outputs": [],
   "source": [
    "def plot_heterogeneity(heterogeneity, k):\n",
    "    plt.figure(figsize=(7, 4))\n",
    "    plt.plot(heterogeneity, linewidth=4)\n",
    "    plt.xlabel(\"# Iterations\")\n",
    "    plt.ylabel(\"Heterogeneity\")\n",
    "    plt.title(\"Heterogeneity of clustering over time, K={0:d}\".format(k))\n",
    "    plt.rcParams.update({\"font.size\": 16})\n",
    "    plt.tight_layout()"
   ]
  },
  {
   "cell_type": "markdown",
   "metadata": {},
   "source": [
    "Let's consider running k-means with K=3 clusters for a maximum of 400 iterations, recording cluster heterogeneity at every step. Then, let's plot the heterogeneity over iterations using the plotting function above."
   ]
  },
  {
   "cell_type": "code",
   "execution_count": 137,
   "metadata": {},
   "outputs": [
    {
     "name": "stdout",
     "output_type": "stream",
     "text": [
      "0\n",
      "1\n",
      "      3232 elements changed their cluster assignment.\n",
      "2\n",
      "      4018 elements changed their cluster assignment.\n",
      "3\n",
      "      4354 elements changed their cluster assignment.\n",
      "4\n",
      "      3066 elements changed their cluster assignment.\n",
      "5\n",
      "      2204 elements changed their cluster assignment.\n",
      "6\n",
      "      1548 elements changed their cluster assignment.\n",
      "7\n",
      "      1100 elements changed their cluster assignment.\n",
      "8\n",
      "       794 elements changed their cluster assignment.\n",
      "9\n",
      "       621 elements changed their cluster assignment.\n",
      "10\n",
      "       507 elements changed their cluster assignment.\n",
      "11\n",
      "       412 elements changed their cluster assignment.\n",
      "12\n",
      "       368 elements changed their cluster assignment.\n",
      "13\n",
      "       284 elements changed their cluster assignment.\n",
      "14\n",
      "       214 elements changed their cluster assignment.\n",
      "15\n",
      "       197 elements changed their cluster assignment.\n",
      "16\n",
      "       161 elements changed their cluster assignment.\n",
      "17\n",
      "       109 elements changed their cluster assignment.\n",
      "18\n",
      "        74 elements changed their cluster assignment.\n",
      "19\n",
      "        51 elements changed their cluster assignment.\n",
      "20\n",
      "        46 elements changed their cluster assignment.\n",
      "21\n",
      "        35 elements changed their cluster assignment.\n",
      "22\n",
      "        30 elements changed their cluster assignment.\n",
      "23\n",
      "        24 elements changed their cluster assignment.\n",
      "24\n",
      "        16 elements changed their cluster assignment.\n",
      "25\n",
      "        12 elements changed their cluster assignment.\n",
      "26\n",
      "        11 elements changed their cluster assignment.\n",
      "27\n",
      "         9 elements changed their cluster assignment.\n",
      "28\n",
      "         8 elements changed their cluster assignment.\n",
      "29\n",
      "         4 elements changed their cluster assignment.\n",
      "30\n",
      "         3 elements changed their cluster assignment.\n",
      "31\n",
      "         2 elements changed their cluster assignment.\n",
      "32\n",
      "         4 elements changed their cluster assignment.\n",
      "33\n",
      "         4 elements changed their cluster assignment.\n",
      "34\n",
      "         1 elements changed their cluster assignment.\n",
      "35\n"
     ]
    },
    {
     "data": {
      "image/png": "[encoded data removed]",
      "text/plain": [
       "<Figure size 504x288 with 1 Axes>"
      ]
     },
     "metadata": {
      "needs_background": "light"
     },
     "output_type": "display_data"
    }
   ],
   "source": [
    "k = 3\n",
    "heterogeneity = []\n",
    "initial_centroids = get_initial_centroids(tf_idf, k, seed=0)\n",
    "centroids, cluster_assignment = kmeans(tf_idf, k, initial_centroids, maxiter=400, record_heterogeneity=heterogeneity, verbose=True)\n",
    "\n",
    "plot_heterogeneity(heterogeneity, k)"
   ]
  },
  {
   "cell_type": "markdown",
   "metadata": {},
   "source": [
    "**Q: Which of the cluster contains the greatest number of data points in the end?**"
   ]
  },
  {
   "cell_type": "code",
   "execution_count": 138,
   "metadata": {},
   "outputs": [
    {
     "data": {
      "text/plain": [
       "0"
      ]
     },
     "execution_count": 138,
     "metadata": {},
     "output_type": "execute_result"
    }
   ],
   "source": [
    "np.argmax(np.bincount(cluster_assignment))"
   ]
  },
  {
   "cell_type": "markdown",
   "metadata": {},
   "source": [
    "## Beware of local maxima"
   ]
  },
  {
   "cell_type": "markdown",
   "metadata": {},
   "source": [
    "One weakness of k-means is that it tends to get stuck in a local minimum. To see this, let us run k-means multiple times, with different initial centroids created using different random seeds."
   ]
  },
  {
   "cell_type": "code",
   "execution_count": 139,
   "metadata": {},
   "outputs": [],
   "source": [
    "import sys"
   ]
  },
  {
   "cell_type": "code",
   "execution_count": 140,
   "metadata": {},
   "outputs": [
    {
     "name": "stdout",
     "output_type": "stream",
     "text": [
      "seed=000000, heterogeneity= 52856.17602\n",
      "seed=020000, heterogeneity= 52830.78671\n",
      "seed=040000, heterogeneity= 52955.14520\n",
      "seed=060000, heterogeneity= 52796.48198\n",
      "seed=080000, heterogeneity= 52743.53064\n",
      "seed=100000, heterogeneity= 52839.67537\n",
      "seed=120000, heterogeneity= 52861.52845\n",
      "726.161000013\n"
     ]
    }
   ],
   "source": [
    "k = 10\n",
    "heterogeneity = {}\n",
    "\n",
    "import time\n",
    "start = time.time()\n",
    "\n",
    "for seed in [0, 20000, 40000, 60000, 80000, 100000, 120000]:\n",
    "    initial_centroids = get_initial_centroids(tf_idf, k, seed)\n",
    "    centroids, cluster_assignment = kmeans(tf_idf, k, initial_centroids, maxiter=400, record_heterogeneity=None, verbose=False)\n",
    "    heterogeneity[seed] = compute_heterogeneity(tf_idf, k, centroids, cluster_assignment)\n",
    "    \n",
    "    print (\"seed={0:06d}, heterogeneity={1: .5f}\".format(seed, heterogeneity[seed]))\n",
    "    sys.stdout.flush()\n",
    "    \n",
    "end = time.time()\n",
    "\n",
    "print (end-start)"
   ]
  },
  {
   "cell_type": "markdown",
   "metadata": {},
   "source": [
    "Notice the variation in heterogeneity for different initializations. This indicates that k-means sometimes gets stuck at a bad local minimum."
   ]
  },
  {
   "cell_type": "markdown",
   "metadata": {},
   "source": [
    "**Q: Another way to capture the effect of changing initialization is to look at the distribution of cluster assignments. Add a line to the code above to compute the size (# of member data points) of clusters for each run of k-means. Look at the size of the largest cluster (most # of member data points) across multiple runs, with seeds 0, 20000, ..., 120000. How much does this measure vary across the runs? What is the minimum and maximum values this quantity takes?**"
   ]
  },
  {
   "cell_type": "code",
   "execution_count": 141,
   "metadata": {},
   "outputs": [
    {
     "name": "stdout",
     "output_type": "stream",
     "text": [
      "seed=000000, heterogeneity=52856.17602\n",
      "seed=020000, heterogeneity=52830.78671\n",
      "seed=040000, heterogeneity=52955.14520\n",
      "seed=060000, heterogeneity=52796.48198\n",
      "seed=080000, heterogeneity=52743.53064\n",
      "seed=100000, heterogeneity=52839.67537\n",
      "seed=120000, heterogeneity=52861.52845\n",
      "755.750999928\n",
      "13337\n"
     ]
    }
   ],
   "source": [
    "k = 10\n",
    "heterogeneity = {}\n",
    "\n",
    "import time\n",
    "start = time.time()\n",
    "max_cluster_assignment = []\n",
    "\n",
    "for seed in [0, 20000, 40000, 60000, 80000, 100000, 120000]:\n",
    "    initial_centroids = get_initial_centroids(tf_idf, k, seed)\n",
    "    centroids, cluster_assignment = kmeans(tf_idf, k, initial_centroids, maxiter=400, record_heterogeneity=None, verbose=False)\n",
    "    heterogeneity[seed] = compute_heterogeneity(tf_idf, k, centroids, cluster_assignment)\n",
    "    max_cluster_assignment.append(np.max(np.bincount(cluster_assignment)))\n",
    "    \n",
    "    print (\"seed={0:06d}, heterogeneity={1:.5f}\".format(seed, heterogeneity[seed]))\n",
    "    sys.stdout.flush()\n",
    "     \n",
    "end = time.time()\n",
    "print (end-start)\n",
    "\n",
    "print np.min(max_cluster_assignment)"
   ]
  },
  {
   "cell_type": "markdown",
   "metadata": {},
   "source": [
    "One effective way to counter this tendency is to use **k-means++** to provide a smart initialization. This method tries to spread out the initial set of centroids so that they are not too close together. It is known to improve the quality of local optima and lower average runtime."
   ]
  },
  {
   "cell_type": "code",
   "execution_count": 142,
   "metadata": {},
   "outputs": [],
   "source": [
    "def smart_initialize(data, k, seed=None):\n",
    "    if seed is not None:\n",
    "        np.random.seed(seed)\n",
    "        \n",
    "    centroids = np.zeros((k, data.shape[1]))\n",
    "    \n",
    "    # Randomly choose the first centroid.\n",
    "    idx = np.random.randint(data.shape[0])\n",
    "    centroids[0] = data[idx, :].toarray()\n",
    "    \n",
    "    # Compute distances from the first centroid chosen to all the other data points.\n",
    "    squared_distances = pairwise_distances(data, centroids[0:1], metric=\"euclidean\").flatten()**2\n",
    "    \n",
    "    for i in xrange(1, k):\n",
    "        # Choose the next centroid randomly, so that the probability for each data point to be chosen\n",
    "        # is directly proportional to its squared distance from the nearest centroid.\n",
    "        # Roughly speaking, a new centroid should be as far as from other centroids as possible.\n",
    "        idx = np.random.choice(data.shape[0], 1, p=squared_distances/sum(squared_distances))\n",
    "        centroids[i] = data[idx, :].toarray()\n",
    "        squared_distances = np.min(pairwise_distances(data, centroids[0:i+1], metric=\"euclidean\")**2, axis=1)\n",
    "        \n",
    "        \n",
    "    return centroids"
   ]
  },
  {
   "cell_type": "markdown",
   "metadata": {},
   "source": [
    "Let's now rerun k-means with 10 clusters using the same set of seeds, but always using k-means++ to initialize the algorithm."
   ]
  },
  {
   "cell_type": "code",
   "execution_count": 143,
   "metadata": {},
   "outputs": [
    {
     "name": "stdout",
     "output_type": "stream",
     "text": [
      "seed=000000, heterogeneity=52862.60543\n",
      "seed=020000, heterogeneity=52777.62524\n",
      "seed=040000, heterogeneity=52752.93124\n",
      "seed=060000, heterogeneity=52792.69967\n",
      "seed=080000, heterogeneity=52798.09667\n",
      "seed=100000, heterogeneity=52789.22246\n",
      "seed=120000, heterogeneity=52834.20748\n",
      "492.368000031\n"
     ]
    }
   ],
   "source": [
    "k = 10\n",
    "heterogeneity_smart = {}\n",
    "start = time.time()\n",
    "\n",
    "for seed in [0, 20000, 40000, 60000, 80000, 100000, 120000]:\n",
    "    initial_centroids = smart_initialize(tf_idf, k, seed)\n",
    "    centroids, cluster_assignment = kmeans(tf_idf, k, initial_centroids, maxiter=400, record_heterogeneity=None, verbose=False)\n",
    "    heterogeneity_smart[seed] = compute_heterogeneity(tf_idf, k, centroids, cluster_assignment)\n",
    "    \n",
    "    print (\"seed={0:06d}, heterogeneity={1:.5f}\".format(seed, heterogeneity_smart[seed]))\n",
    "    sys.stdout.flush()\n",
    "    \n",
    "end = time.time()\n",
    "\n",
    "print (end - start)"
   ]
  },
  {
   "cell_type": "markdown",
   "metadata": {},
   "source": [
    "Let's compare the set of cluster heterogeneities we got from our 7 restarts of k-means using random initialization compared to the 7 restarts of k-means using k-means++ as a smart initialization.\n",
    "\n",
    "The following code produces a box plot for each of these methods, indicating the spread of values produced by each method."
   ]
  },
  {
   "cell_type": "code",
   "execution_count": 144,
   "metadata": {},
   "outputs": [
    {
     "data": {
      "image/png": "[encoded data removed]",
      "text/plain": [
       "<Figure size 576x360 with 1 Axes>"
      ]
     },
     "metadata": {
      "needs_background": "light"
     },
     "output_type": "display_data"
    }
   ],
   "source": [
    "plt.figure(figsize=(8, 5))\n",
    "\n",
    "plt.boxplot([heterogeneity.values(), heterogeneity_smart.values()], vert=False)\n",
    "plt.yticks([1, 2], [\"k-means\", \"k-means++\"])\n",
    "plt.rcParams.update({\"font.size\": 16})\n",
    "\n",
    "plt.tight_layout()"
   ]
  },
  {
   "cell_type": "markdown",
   "metadata": {},
   "source": [
    "**In general, you should run k-means at least a few times with different initializations and then return the run resulting in the lowest heterogeneity.** Let us write a function that runs k-means multiple times and picks the best run that minimizes heterogeneity. The function accepts an optional list of seed values to be used for the multiple runs; if no such list is provided, the current UTC time is used as seed values."
   ]
  },
  {
   "cell_type": "code",
   "execution_count": 145,
   "metadata": {},
   "outputs": [],
   "source": [
    "def kmeans_multiple_runs(data, k, maxiter, num_runs, seed_list=None, verbose=False):\n",
    "    heterogeneity = {}\n",
    "    \n",
    "    min_heterogeneity_achieved = float(\"inf\")\n",
    "    best_seed = None\n",
    "    final_centroids = None\n",
    "    final_cluster_assignment = None\n",
    "    \n",
    "    for i in xrange(num_runs):\n",
    "        # Use UTC time if no seeds are provided.\n",
    "        if seed_list is not None:\n",
    "            seed = seed_list[i]\n",
    "            np.random.seed(seed)\n",
    "        else:\n",
    "            seed = int(time.time())\n",
    "            np.random.seed(seed)\n",
    "            \n",
    "        # Use k-means++ initialization\n",
    "        initial_centroids = smart_initialize(data, k, seed=seed)\n",
    "        \n",
    "        # Run k-means\n",
    "        centroids, cluster_assignment = kmeans(data, k, initial_centroids, maxiter, record_heterogeneity=None, verbose=False)\n",
    "        heterogeneity[seed] = compute_heterogeneity(data, k, centroids, cluster_assignment)\n",
    "        \n",
    "        if verbose:\n",
    "            print (\"seed={0:06d}, heterogeneity={1:.5f}\".format(seed, heterogeneity[seed]))\n",
    "            \n",
    "        # if current measurement of heterogeneity is lower than previously seen,\n",
    "        # update the minimum record of heterogeneity.\n",
    "        if heterogeneity[seed] < min_heterogeneity_achieved:\n",
    "            min_heterogeneity_achieved = heterogeneity[seed]\n",
    "            best_seed = seed\n",
    "            final_centroids = centroids\n",
    "            final_cluster_assignment = cluster_assignment\n",
    "            \n",
    "            \n",
    "    return final_centroids, final_cluster_assignment"
   ]
  },
  {
   "cell_type": "markdown",
   "metadata": {},
   "source": [
    "## How to choose K"
   ]
  },
  {
   "cell_type": "markdown",
   "metadata": {},
   "source": [
    "Since we are measuring the tightness of the clusters, a higher value of K reduces the possible heterogeneity metric by definition. Let's explore this general trend for ourselves by performing the following analysis. "
   ]
  },
  {
   "cell_type": "code",
   "execution_count": 148,
   "metadata": {},
   "outputs": [
    {
     "name": "stdout",
     "output_type": "stream",
     "text": [
      "2\n",
      "10\n",
      "25\n",
      "50\n",
      "100\n"
     ]
    },
    {
     "data": {
      "image/png": "[encoded data removed]",
      "text/plain": [
       "<Figure size 504x288 with 1 Axes>"
      ]
     },
     "metadata": {
      "needs_background": "light"
     },
     "output_type": "display_data"
    }
   ],
   "source": [
    "def plot_k_vs_heterogeneity(k_values, heterogeneity_values):\n",
    "    plt.figure(figsize=(7, 4))\n",
    "    plt.plot(k_values, heterogeneity_values, linewidth=4)\n",
    "    plt.xlabel(\"K\")\n",
    "    plt.ylabel(\"Heterogeneity\")\n",
    "    plt.title(\"K vs. Heterogeneity\")\n",
    "    plt.rcParams.update({\"font.size\": 16})\n",
    "    plt.tight_layout()\n",
    "\n",
    "filename = \"E:\\\\Machine Learning\\\\U.W\\\\Cluster and Retrieval\\\\kmeans-arrays.npz\"\n",
    "\n",
    "heterogeneity_values = []\n",
    "k_list = [2, 10, 25, 50, 100]\n",
    "\n",
    "if os.path.exists(filename):\n",
    "    arrays = np.load(filename)\n",
    "    centroids = {}\n",
    "    cluster_assignment = {}\n",
    "    for k in k_list:\n",
    "        print k\n",
    "        sys.stdout.flush()\n",
    "        centroids[k] = lambda k=k: arrays[\"centroids_{0:d}\".format(k)]\n",
    "        cluster_assignment[k] = lambda k=k: arrays[\"cluster_assignment_{0:d}\".format(k)]\n",
    "        score = compute_heterogeneity(tf_idf, k, centroids[k](), cluster_assignment[k]())\n",
    "        heterogeneity_values.append(score)\n",
    "        \n",
    "    plot_k_vs_heterogeneity(k_list, heterogeneity_values)\n",
    "\n",
    "else:\n",
    "    print(\"File not found. Skipping\")"
   ]
  },
  {
   "cell_type": "markdown",
   "metadata": {},
   "source": [
    "**Not right!!!!!!!!**"
   ]
  },
  {
   "cell_type": "markdown",
   "metadata": {},
   "source": []
  }
 ],
 "metadata": {
  "kernelspec": {
   "display_name": "Python 2",
   "language": "python",
   "name": "python2"
  },
  "language_info": {
   "codemirror_mode": {
    "name": "ipython",
    "version": 2
   },
   "file_extension": ".py",
   "mimetype": "text/x-python",
   "name": "python",
   "nbconvert_exporter": "python",
   "pygments_lexer": "ipython2",
   "version": "2.7.14"
  }
 },
 "nbformat": 4,
 "nbformat_minor": 2
}
